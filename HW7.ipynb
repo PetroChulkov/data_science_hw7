{
  "nbformat": 4,
  "nbformat_minor": 0,
  "metadata": {
    "colab": {
      "provenance": []
    },
    "kernelspec": {
      "name": "python3",
      "display_name": "Python 3"
    },
    "language_info": {
      "name": "python"
    }
  },
  "cells": [
    {
      "cell_type": "code",
      "source": [
        "from surprise import SVD, SVDpp, NMF\n",
        "from surprise import Dataset\n",
        "from surprise.model_selection import cross_validate\n",
        "import pandas as pd"
      ],
      "metadata": {
        "id": "-T-OsbUHXv29"
      },
      "execution_count": 3,
      "outputs": []
    },
    {
      "cell_type": "code",
      "source": [
        "pip install scikit-surprise\n"
      ],
      "metadata": {
        "colab": {
          "base_uri": "https://localhost:8080/"
        },
        "id": "af5neZBcMjMC",
        "outputId": "60b08cf8-357f-42f2-c2a6-e82f9eb0b3d8"
      },
      "execution_count": 2,
      "outputs": [
        {
          "output_type": "stream",
          "name": "stdout",
          "text": [
            "Collecting scikit-surprise\n",
            "  Downloading scikit-surprise-1.1.3.tar.gz (771 kB)\n",
            "\u001b[2K     \u001b[90m━━━━━━━━━━━━━━━━━━━━━━━━━━━━━━━━━━━━━━━\u001b[0m \u001b[32m772.0/772.0 kB\u001b[0m \u001b[31m3.6 MB/s\u001b[0m eta \u001b[36m0:00:00\u001b[0m\n",
            "\u001b[?25h  Preparing metadata (setup.py) ... \u001b[?25l\u001b[?25hdone\n",
            "Requirement already satisfied: joblib>=1.0.0 in /usr/local/lib/python3.10/dist-packages (from scikit-surprise) (1.3.1)\n",
            "Requirement already satisfied: numpy>=1.17.3 in /usr/local/lib/python3.10/dist-packages (from scikit-surprise) (1.22.4)\n",
            "Requirement already satisfied: scipy>=1.3.2 in /usr/local/lib/python3.10/dist-packages (from scikit-surprise) (1.10.1)\n",
            "Building wheels for collected packages: scikit-surprise\n",
            "  Building wheel for scikit-surprise (setup.py) ... \u001b[?25l\u001b[?25hdone\n",
            "  Created wheel for scikit-surprise: filename=scikit_surprise-1.1.3-cp310-cp310-linux_x86_64.whl size=2811643 sha256=4ad9ed68c77716431a10d8014958ee9f174a805132ef50fa33715f963a083d81\n",
            "  Stored in directory: /root/.cache/pip/wheels/a5/ca/a8/4e28def53797fdc4363ca4af740db15a9c2f1595ebc51fb445\n",
            "Successfully built scikit-surprise\n",
            "Installing collected packages: scikit-surprise\n",
            "Successfully installed scikit-surprise-1.1.3\n"
          ]
        }
      ]
    },
    {
      "cell_type": "markdown",
      "source": [
        "# **Dataset preparation**"
      ],
      "metadata": {
        "id": "hQKqpTb2zW__"
      }
    },
    {
      "cell_type": "code",
      "source": [
        "data = Dataset.load_builtin('ml-100k')"
      ],
      "metadata": {
        "id": "040mzEubXzNq",
        "colab": {
          "base_uri": "https://localhost:8080/"
        },
        "outputId": "82c5ca39-7c7e-4f56-f3cf-b4decff27356"
      },
      "execution_count": 4,
      "outputs": [
        {
          "output_type": "stream",
          "name": "stdout",
          "text": [
            "Dataset ml-100k could not be found. Do you want to download it? [Y/n] Y\n",
            "Trying to download dataset from https://files.grouplens.org/datasets/movielens/ml-100k.zip...\n",
            "Done! Dataset ml-100k has been saved to /root/.surprise_data/ml-100k\n"
          ]
        }
      ]
    },
    {
      "cell_type": "markdown",
      "source": [
        "# **SVD Algorithm**"
      ],
      "metadata": {
        "id": "Eo1ok-EizcoI"
      }
    },
    {
      "cell_type": "code",
      "source": [
        "algo1 = SVD()\n",
        "result = cross_validate(algo1, data, measures=['RMSE', 'MAE'], cv=5, verbose=True)\n",
        "SVD_result = pd.DataFrame.from_dict(result).mean(axis=0)"
      ],
      "metadata": {
        "colab": {
          "base_uri": "https://localhost:8080/"
        },
        "id": "_0Ww6lBfX-Zs",
        "outputId": "f8658b4b-066e-440c-d6ab-f3b90994cc86"
      },
      "execution_count": 5,
      "outputs": [
        {
          "output_type": "stream",
          "name": "stdout",
          "text": [
            "Evaluating RMSE, MAE of algorithm SVD on 5 split(s).\n",
            "\n",
            "                  Fold 1  Fold 2  Fold 3  Fold 4  Fold 5  Mean    Std     \n",
            "RMSE (testset)    0.9333  0.9367  0.9422  0.9332  0.9403  0.9371  0.0036  \n",
            "MAE (testset)     0.7361  0.7382  0.7408  0.7351  0.7414  0.7383  0.0025  \n",
            "Fit time          1.76    1.44    1.33    1.32    1.35    1.44    0.16    \n",
            "Test time         0.26    0.17    0.14    0.14    0.15    0.17    0.04    \n"
          ]
        }
      ]
    },
    {
      "cell_type": "markdown",
      "source": [
        "# **SVD pp Algorithm**"
      ],
      "metadata": {
        "id": "GG_himNKzfgB"
      }
    },
    {
      "cell_type": "code",
      "source": [
        "algo2 = SVDpp()\n",
        "result = cross_validate(algo2, data, measures=['RMSE', 'MAE'], cv=5, verbose=True)\n",
        "SVDpp_result = pd.DataFrame.from_dict(result).mean(axis=0)"
      ],
      "metadata": {
        "colab": {
          "base_uri": "https://localhost:8080/"
        },
        "id": "_P01yf_KayFr",
        "outputId": "9c729a22-1b93-47e2-8b0f-d38769d74622"
      },
      "execution_count": 6,
      "outputs": [
        {
          "output_type": "stream",
          "name": "stdout",
          "text": [
            "Evaluating RMSE, MAE of algorithm SVDpp on 5 split(s).\n",
            "\n",
            "                  Fold 1  Fold 2  Fold 3  Fold 4  Fold 5  Mean    Std     \n",
            "RMSE (testset)    0.9208  0.9198  0.9240  0.9140  0.9188  0.9195  0.0033  \n",
            "MAE (testset)     0.7235  0.7222  0.7250  0.7169  0.7195  0.7214  0.0029  \n",
            "Fit time          31.01   26.75   26.38   27.51   26.20   27.57   1.78    \n",
            "Test time         4.67    4.09    4.17    5.56    4.28    4.56    0.54    \n"
          ]
        }
      ]
    },
    {
      "cell_type": "markdown",
      "source": [
        "# **NMF Algorithm**"
      ],
      "metadata": {
        "id": "sb687HKFzrsM"
      }
    },
    {
      "cell_type": "code",
      "source": [
        "algo3 = NMF()\n",
        "result = cross_validate(algo3, data, measures=['RMSE', 'MAE'], cv=5, verbose=True)\n",
        "NMF_result = pd.DataFrame.from_dict(result).mean(axis=0)"
      ],
      "metadata": {
        "colab": {
          "base_uri": "https://localhost:8080/"
        },
        "id": "d2deLIBjcOeL",
        "outputId": "2bae5cf9-dd94-4321-8c9b-d2ea0f34b1e0"
      },
      "execution_count": 7,
      "outputs": [
        {
          "output_type": "stream",
          "name": "stdout",
          "text": [
            "Evaluating RMSE, MAE of algorithm NMF on 5 split(s).\n",
            "\n",
            "                  Fold 1  Fold 2  Fold 3  Fold 4  Fold 5  Mean    Std     \n",
            "RMSE (testset)    0.9617  0.9618  0.9589  0.9667  0.9740  0.9646  0.0053  \n",
            "MAE (testset)     0.7538  0.7581  0.7543  0.7603  0.7661  0.7585  0.0045  \n",
            "Fit time          2.04    2.07    2.04    2.58    2.15    2.18    0.21    \n",
            "Test time         0.12    0.38    0.13    0.36    0.12    0.22    0.12    \n"
          ]
        }
      ]
    },
    {
      "cell_type": "markdown",
      "source": [
        "# **Final comparison**"
      ],
      "metadata": {
        "id": "0b2tnRePzyAr"
      }
    },
    {
      "cell_type": "code",
      "source": [
        "Final_comparison = pd.DataFrame(columns=['SVD', 'SVDpp', 'NMF'])"
      ],
      "metadata": {
        "id": "E0G3G9f_0X84"
      },
      "execution_count": 8,
      "outputs": []
    },
    {
      "cell_type": "code",
      "source": [
        "Final_comparison['SVD'] = SVD_result\n",
        "Final_comparison['SVDpp'] = SVDpp_result\n",
        "Final_comparison['NMF'] = NMF_result"
      ],
      "metadata": {
        "id": "jOEp-Il2tkoI"
      },
      "execution_count": 9,
      "outputs": []
    },
    {
      "cell_type": "code",
      "source": [
        "Final_comparison"
      ],
      "metadata": {
        "colab": {
          "base_uri": "https://localhost:8080/",
          "height": 175
        },
        "id": "r4g-cpLV1F2r",
        "outputId": "cacb27b9-e8bc-4a9a-c9b7-8cce8d547952"
      },
      "execution_count": 10,
      "outputs": [
        {
          "output_type": "execute_result",
          "data": {
            "text/plain": [
              "                SVD      SVDpp       NMF\n",
              "test_rmse  0.937128   0.919451  0.964623\n",
              "test_mae   0.738318   0.721419  0.758546\n",
              "fit_time   1.440702  27.571139  2.175808\n",
              "test_time  0.172916   4.555466  0.221829"
            ],
            "text/html": [
              "\n",
              "\n",
              "  <div id=\"df-57e7e9fe-5b81-4867-ac14-9617c4599a35\">\n",
              "    <div class=\"colab-df-container\">\n",
              "      <div>\n",
              "<style scoped>\n",
              "    .dataframe tbody tr th:only-of-type {\n",
              "        vertical-align: middle;\n",
              "    }\n",
              "\n",
              "    .dataframe tbody tr th {\n",
              "        vertical-align: top;\n",
              "    }\n",
              "\n",
              "    .dataframe thead th {\n",
              "        text-align: right;\n",
              "    }\n",
              "</style>\n",
              "<table border=\"1\" class=\"dataframe\">\n",
              "  <thead>\n",
              "    <tr style=\"text-align: right;\">\n",
              "      <th></th>\n",
              "      <th>SVD</th>\n",
              "      <th>SVDpp</th>\n",
              "      <th>NMF</th>\n",
              "    </tr>\n",
              "  </thead>\n",
              "  <tbody>\n",
              "    <tr>\n",
              "      <th>test_rmse</th>\n",
              "      <td>0.937128</td>\n",
              "      <td>0.919451</td>\n",
              "      <td>0.964623</td>\n",
              "    </tr>\n",
              "    <tr>\n",
              "      <th>test_mae</th>\n",
              "      <td>0.738318</td>\n",
              "      <td>0.721419</td>\n",
              "      <td>0.758546</td>\n",
              "    </tr>\n",
              "    <tr>\n",
              "      <th>fit_time</th>\n",
              "      <td>1.440702</td>\n",
              "      <td>27.571139</td>\n",
              "      <td>2.175808</td>\n",
              "    </tr>\n",
              "    <tr>\n",
              "      <th>test_time</th>\n",
              "      <td>0.172916</td>\n",
              "      <td>4.555466</td>\n",
              "      <td>0.221829</td>\n",
              "    </tr>\n",
              "  </tbody>\n",
              "</table>\n",
              "</div>\n",
              "      <button class=\"colab-df-convert\" onclick=\"convertToInteractive('df-57e7e9fe-5b81-4867-ac14-9617c4599a35')\"\n",
              "              title=\"Convert this dataframe to an interactive table.\"\n",
              "              style=\"display:none;\">\n",
              "\n",
              "  <svg xmlns=\"http://www.w3.org/2000/svg\" height=\"24px\"viewBox=\"0 0 24 24\"\n",
              "       width=\"24px\">\n",
              "    <path d=\"M0 0h24v24H0V0z\" fill=\"none\"/>\n",
              "    <path d=\"M18.56 5.44l.94 2.06.94-2.06 2.06-.94-2.06-.94-.94-2.06-.94 2.06-2.06.94zm-11 1L8.5 8.5l.94-2.06 2.06-.94-2.06-.94L8.5 2.5l-.94 2.06-2.06.94zm10 10l.94 2.06.94-2.06 2.06-.94-2.06-.94-.94-2.06-.94 2.06-2.06.94z\"/><path d=\"M17.41 7.96l-1.37-1.37c-.4-.4-.92-.59-1.43-.59-.52 0-1.04.2-1.43.59L10.3 9.45l-7.72 7.72c-.78.78-.78 2.05 0 2.83L4 21.41c.39.39.9.59 1.41.59.51 0 1.02-.2 1.41-.59l7.78-7.78 2.81-2.81c.8-.78.8-2.07 0-2.86zM5.41 20L4 18.59l7.72-7.72 1.47 1.35L5.41 20z\"/>\n",
              "  </svg>\n",
              "      </button>\n",
              "\n",
              "\n",
              "\n",
              "    <div id=\"df-545c4b89-e8ee-45b6-9a10-be947add386a\">\n",
              "      <button class=\"colab-df-quickchart\" onclick=\"quickchart('df-545c4b89-e8ee-45b6-9a10-be947add386a')\"\n",
              "              title=\"Suggest charts.\"\n",
              "              style=\"display:none;\">\n",
              "\n",
              "<svg xmlns=\"http://www.w3.org/2000/svg\" height=\"24px\"viewBox=\"0 0 24 24\"\n",
              "     width=\"24px\">\n",
              "    <g>\n",
              "        <path d=\"M19 3H5c-1.1 0-2 .9-2 2v14c0 1.1.9 2 2 2h14c1.1 0 2-.9 2-2V5c0-1.1-.9-2-2-2zM9 17H7v-7h2v7zm4 0h-2V7h2v10zm4 0h-2v-4h2v4z\"/>\n",
              "    </g>\n",
              "</svg>\n",
              "      </button>\n",
              "    </div>\n",
              "\n",
              "<style>\n",
              "  .colab-df-quickchart {\n",
              "    background-color: #E8F0FE;\n",
              "    border: none;\n",
              "    border-radius: 50%;\n",
              "    cursor: pointer;\n",
              "    display: none;\n",
              "    fill: #1967D2;\n",
              "    height: 32px;\n",
              "    padding: 0 0 0 0;\n",
              "    width: 32px;\n",
              "  }\n",
              "\n",
              "  .colab-df-quickchart:hover {\n",
              "    background-color: #E2EBFA;\n",
              "    box-shadow: 0px 1px 2px rgba(60, 64, 67, 0.3), 0px 1px 3px 1px rgba(60, 64, 67, 0.15);\n",
              "    fill: #174EA6;\n",
              "  }\n",
              "\n",
              "  [theme=dark] .colab-df-quickchart {\n",
              "    background-color: #3B4455;\n",
              "    fill: #D2E3FC;\n",
              "  }\n",
              "\n",
              "  [theme=dark] .colab-df-quickchart:hover {\n",
              "    background-color: #434B5C;\n",
              "    box-shadow: 0px 1px 3px 1px rgba(0, 0, 0, 0.15);\n",
              "    filter: drop-shadow(0px 1px 2px rgba(0, 0, 0, 0.3));\n",
              "    fill: #FFFFFF;\n",
              "  }\n",
              "</style>\n",
              "\n",
              "    <script>\n",
              "      async function quickchart(key) {\n",
              "        const containerElement = document.querySelector('#' + key);\n",
              "        const charts = await google.colab.kernel.invokeFunction(\n",
              "            'suggestCharts', [key], {});\n",
              "      }\n",
              "    </script>\n",
              "\n",
              "      <script>\n",
              "\n",
              "function displayQuickchartButton(domScope) {\n",
              "  let quickchartButtonEl =\n",
              "    domScope.querySelector('#df-545c4b89-e8ee-45b6-9a10-be947add386a button.colab-df-quickchart');\n",
              "  quickchartButtonEl.style.display =\n",
              "    google.colab.kernel.accessAllowed ? 'block' : 'none';\n",
              "}\n",
              "\n",
              "        displayQuickchartButton(document);\n",
              "      </script>\n",
              "      <style>\n",
              "    .colab-df-container {\n",
              "      display:flex;\n",
              "      flex-wrap:wrap;\n",
              "      gap: 12px;\n",
              "    }\n",
              "\n",
              "    .colab-df-convert {\n",
              "      background-color: #E8F0FE;\n",
              "      border: none;\n",
              "      border-radius: 50%;\n",
              "      cursor: pointer;\n",
              "      display: none;\n",
              "      fill: #1967D2;\n",
              "      height: 32px;\n",
              "      padding: 0 0 0 0;\n",
              "      width: 32px;\n",
              "    }\n",
              "\n",
              "    .colab-df-convert:hover {\n",
              "      background-color: #E2EBFA;\n",
              "      box-shadow: 0px 1px 2px rgba(60, 64, 67, 0.3), 0px 1px 3px 1px rgba(60, 64, 67, 0.15);\n",
              "      fill: #174EA6;\n",
              "    }\n",
              "\n",
              "    [theme=dark] .colab-df-convert {\n",
              "      background-color: #3B4455;\n",
              "      fill: #D2E3FC;\n",
              "    }\n",
              "\n",
              "    [theme=dark] .colab-df-convert:hover {\n",
              "      background-color: #434B5C;\n",
              "      box-shadow: 0px 1px 3px 1px rgba(0, 0, 0, 0.15);\n",
              "      filter: drop-shadow(0px 1px 2px rgba(0, 0, 0, 0.3));\n",
              "      fill: #FFFFFF;\n",
              "    }\n",
              "  </style>\n",
              "\n",
              "      <script>\n",
              "        const buttonEl =\n",
              "          document.querySelector('#df-57e7e9fe-5b81-4867-ac14-9617c4599a35 button.colab-df-convert');\n",
              "        buttonEl.style.display =\n",
              "          google.colab.kernel.accessAllowed ? 'block' : 'none';\n",
              "\n",
              "        async function convertToInteractive(key) {\n",
              "          const element = document.querySelector('#df-57e7e9fe-5b81-4867-ac14-9617c4599a35');\n",
              "          const dataTable =\n",
              "            await google.colab.kernel.invokeFunction('convertToInteractive',\n",
              "                                                     [key], {});\n",
              "          if (!dataTable) return;\n",
              "\n",
              "          const docLinkHtml = 'Like what you see? Visit the ' +\n",
              "            '<a target=\"_blank\" href=https://colab.research.google.com/notebooks/data_table.ipynb>data table notebook</a>'\n",
              "            + ' to learn more about interactive tables.';\n",
              "          element.innerHTML = '';\n",
              "          dataTable['output_type'] = 'display_data';\n",
              "          await google.colab.output.renderOutput(dataTable, element);\n",
              "          const docLink = document.createElement('div');\n",
              "          docLink.innerHTML = docLinkHtml;\n",
              "          element.appendChild(docLink);\n",
              "        }\n",
              "      </script>\n",
              "    </div>\n",
              "  </div>\n"
            ]
          },
          "metadata": {},
          "execution_count": 10
        }
      ]
    },
    {
      "cell_type": "markdown",
      "source": [
        "![image.png](data:image/png;base64,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)"
      ],
      "metadata": {
        "id": "HhQ1ZjHfW_hP"
      }
    },
    {
      "cell_type": "markdown",
      "source": [
        "As we can see in the comparison table SVDpp algo takes significantly more time to process the data in comparison with other algorythms, but it gaves us the most accurate result among others. SVP algo looks like the most optimal one considering accuracy and time."
      ],
      "metadata": {
        "id": "E80EXDMtU8WO"
      }
    }
  ]
}